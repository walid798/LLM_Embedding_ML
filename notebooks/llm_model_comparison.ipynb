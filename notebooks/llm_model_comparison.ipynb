{
 "cells": [
  {
   "cell_type": "markdown",
   "id": "09cd7e49",
   "metadata": {},
   "source": [
    "## LLM Embeddings + Scikit-learn Pipeline (Modular Version)\n",
    "\n",
    "This notebook uses modular code from `src/` to:\n",
    "- Load and preprocess text + structured features\n",
    "- Encode text using multiple LLM embedding models\n",
    "- Combine them with structured data\n",
    "- Train and evaluate Scikit-learn models\n",
    "- Visualize with t-SNE"
   ]
  },
  {
   "cell_type": "markdown",
   "id": "0bf3eefc",
   "metadata": {},
   "source": [
    "### Load dataset"
   ]
  },
  {
   "cell_type": "markdown",
   "id": "f668cea1",
   "metadata": {},
   "source": [
    "https://machinelearningmastery.com/feature-engineering-with-llm-embeddings-enhancing-scikit-learn-models/ \n"
   ]
  },
  {
   "cell_type": "code",
   "execution_count": 5,
   "id": "52e933f6",
   "metadata": {},
   "outputs": [],
   "source": [
    "import pandas as pd\n",
    "from sentence_transformers import SentenceTransformer\n",
    "from sklearn.preprocessing import StandardScaler\n",
    "from sklearn.model_selection import train_test_split\n",
    "from sklearn.ensemble import RandomForestClassifier\n",
    "from sklearn.metrics import classification_report\n",
    "import sys\n",
    "import os\n",
    "__file__=\"notebook\"\n",
    "sys.path.append(os.path.abspath(os.path.join(os.path.dirname(__file__), '..')))\n",
    "from src.embedding_pipeline import get_embeddings, scale_features, combine_features\n",
    "from src.model_utils import train_classifier, evaluate_model, visualize_tsne\n",
    "import numpy as np\n",
    "\n",
    "# Load dataset\n",
    "url = \"https://raw.githubusercontent.com/gakudo-ai/open-datasets/refs/heads/main/customer_support_dataset.csv\"\n",
    "df = pd.read_csv(url)\n",
    "\n",
    "# Extract features\n",
    "text_data = df[\"text\"].tolist()\n",
    "structured_data = df[[\"prior_tickets\", \"account_age_days\"]].values\n",
    "labels = df[\"label\"].tolist()\n"
   ]
  },
  {
   "cell_type": "markdown",
   "id": "fc310a50",
   "metadata": {},
   "source": [
    "### Define Embedding Models"
   ]
  },
  {
   "cell_type": "code",
   "execution_count": 9,
   "id": "0ab85b85",
   "metadata": {},
   "outputs": [],
   "source": [
    "from sentence_transformers import SentenceTransformer\n",
    "\n",
    "# Dictionary of model names to load\n",
    "embedding_models = {\n",
    "    \"MiniLM-L6-v2\": \"all-MiniLM-L6-v2\",\n",
    "    \"MiniLM-L12-v2\": \"paraphrase-MiniLM-L12-v2\",\n",
    "    \"MiniLM-QA\": \"multi-qa-MiniLM-L6-cos-v1\",\n",
    "    \"BGE-Small\": \"BAAI/bge-small-en-v1.5\"\n",
    "}\n"
   ]
  },
  {
   "cell_type": "markdown",
   "id": "33711aa4",
   "metadata": {},
   "source": [
    "### Shared Preprocessing"
   ]
  },
  {
   "cell_type": "code",
   "execution_count": 11,
   "id": "63c5bfe0",
   "metadata": {},
   "outputs": [],
   "source": [
    "# Extract features\n",
    "text_data = df[\"text\"].tolist()\n",
    "structured_data = df[[\"prior_tickets\", \"account_age_days\"]].values\n",
    "labels = df[\"label\"].tolist()\n",
    "\n",
    "# Scale structured data once\n",
    "scaler = StandardScaler()\n",
    "X_structured_scaled = scaler.fit_transform(structured_data)\n"
   ]
  },
  {
   "cell_type": "markdown",
   "id": "271eea74",
   "metadata": {},
   "source": [
    "### Train & Evaluate Each Model"
   ]
  },
  {
   "cell_type": "code",
   "execution_count": 14,
   "id": "94cf8e9d",
   "metadata": {},
   "outputs": [
    {
     "name": "stdout",
     "output_type": "stream",
     "text": [
      "\n",
      "🔄 Embedding using: MiniLM-L6-v2\n"
     ]
    },
    {
     "name": "stderr",
     "output_type": "stream",
     "text": [
      "Batches: 100%|██████████| 2/2 [00:00<00:00, 19.32it/s]\n"
     ]
    },
    {
     "name": "stdout",
     "output_type": "stream",
     "text": [
      "              precision    recall  f1-score   support\n",
      "\n",
      "     billing       1.00      1.00      1.00         2\n",
      "         bug       1.00      1.00      1.00         2\n",
      "    delivery       1.00      1.00      1.00         2\n",
      "       login       1.00      1.00      1.00         2\n",
      "      refund       1.00      1.00      1.00         2\n",
      "\n",
      "    accuracy                           1.00        10\n",
      "   macro avg       1.00      1.00      1.00        10\n",
      "weighted avg       1.00      1.00      1.00        10\n",
      "\n",
      "\n",
      "🔄 Embedding using: MiniLM-L12-v2\n"
     ]
    },
    {
     "name": "stderr",
     "output_type": "stream",
     "text": [
      "Batches: 100%|██████████| 2/2 [00:00<00:00, 10.54it/s]\n",
      "c:\\Users\\Walid\\Documents\\Work\\LLM_Embedding_ML\\.venv\\lib\\site-packages\\sklearn\\metrics\\_classification.py:1731: UndefinedMetricWarning: Precision is ill-defined and being set to 0.0 in labels with no predicted samples. Use `zero_division` parameter to control this behavior.\n",
      "  _warn_prf(average, modifier, f\"{metric.capitalize()} is\", result.shape[0])\n",
      "c:\\Users\\Walid\\Documents\\Work\\LLM_Embedding_ML\\.venv\\lib\\site-packages\\sklearn\\metrics\\_classification.py:1731: UndefinedMetricWarning: Precision is ill-defined and being set to 0.0 in labels with no predicted samples. Use `zero_division` parameter to control this behavior.\n",
      "  _warn_prf(average, modifier, f\"{metric.capitalize()} is\", result.shape[0])\n",
      "c:\\Users\\Walid\\Documents\\Work\\LLM_Embedding_ML\\.venv\\lib\\site-packages\\sklearn\\metrics\\_classification.py:1731: UndefinedMetricWarning: Precision is ill-defined and being set to 0.0 in labels with no predicted samples. Use `zero_division` parameter to control this behavior.\n",
      "  _warn_prf(average, modifier, f\"{metric.capitalize()} is\", result.shape[0])\n"
     ]
    },
    {
     "name": "stdout",
     "output_type": "stream",
     "text": [
      "              precision    recall  f1-score   support\n",
      "\n",
      "     billing       0.67      1.00      0.80         2\n",
      "         bug       1.00      1.00      1.00         2\n",
      "    delivery       0.00      0.00      0.00         2\n",
      "       login       0.67      1.00      0.80         2\n",
      "      refund       1.00      1.00      1.00         2\n",
      "\n",
      "    accuracy                           0.80        10\n",
      "   macro avg       0.67      0.80      0.72        10\n",
      "weighted avg       0.67      0.80      0.72        10\n",
      "\n",
      "\n",
      "🔄 Embedding using: MiniLM-QA\n"
     ]
    },
    {
     "name": "stderr",
     "output_type": "stream",
     "text": [
      "Batches: 100%|██████████| 2/2 [00:00<00:00, 20.25it/s]\n"
     ]
    },
    {
     "name": "stdout",
     "output_type": "stream",
     "text": [
      "              precision    recall  f1-score   support\n",
      "\n",
      "     billing       1.00      1.00      1.00         2\n",
      "         bug       1.00      0.50      0.67         2\n",
      "    delivery       1.00      1.00      1.00         2\n",
      "       login       0.67      1.00      0.80         2\n",
      "      refund       1.00      1.00      1.00         2\n",
      "\n",
      "    accuracy                           0.90        10\n",
      "   macro avg       0.93      0.90      0.89        10\n",
      "weighted avg       0.93      0.90      0.89        10\n",
      "\n",
      "\n",
      "🔄 Embedding using: BGE-Small\n"
     ]
    },
    {
     "name": "stderr",
     "output_type": "stream",
     "text": [
      "Batches: 100%|██████████| 2/2 [00:00<00:00, 12.02it/s]\n"
     ]
    },
    {
     "name": "stdout",
     "output_type": "stream",
     "text": [
      "              precision    recall  f1-score   support\n",
      "\n",
      "     billing       1.00      1.00      1.00         2\n",
      "         bug       1.00      1.00      1.00         2\n",
      "    delivery       0.67      1.00      0.80         2\n",
      "       login       1.00      1.00      1.00         2\n",
      "      refund       1.00      0.50      0.67         2\n",
      "\n",
      "    accuracy                           0.90        10\n",
      "   macro avg       0.93      0.90      0.89        10\n",
      "weighted avg       0.93      0.90      0.89        10\n",
      "\n"
     ]
    }
   ],
   "source": [
    "from sklearn.model_selection import train_test_split\n",
    "\n",
    "structured_scaled = scale_features(structured_data)\n",
    "results = []\n",
    "\n",
    "for name, model_name in embedding_models.items():\n",
    "    print(f\"\\n🔄 Embedding using: {name}\")\n",
    "    X_text = get_embeddings(text_data, model_name)\n",
    "    X_combined = combine_features(structured_scaled, X_text)\n",
    "\n",
    "    X_train, X_test, y_train, y_test = train_test_split(X_combined, labels, stratify=labels, test_size=0.2, random_state=42)\n",
    "    clf = train_classifier(X_train, y_train)\n",
    "    metrics = evaluate_model(clf, X_test, y_test)\n",
    "\n",
    "    results.append({\"Model\": name, **metrics})\n",
    "\n",
    "\n"
   ]
  },
  {
   "cell_type": "markdown",
   "id": "7a5858ba",
   "metadata": {},
   "source": [
    "### Store & Compare Results"
   ]
  },
  {
   "cell_type": "code",
   "execution_count": 15,
   "id": "e7a7d541",
   "metadata": {},
   "outputs": [
    {
     "data": {
      "text/html": [
       "<div>\n",
       "<style scoped>\n",
       "    .dataframe tbody tr th:only-of-type {\n",
       "        vertical-align: middle;\n",
       "    }\n",
       "\n",
       "    .dataframe tbody tr th {\n",
       "        vertical-align: top;\n",
       "    }\n",
       "\n",
       "    .dataframe thead th {\n",
       "        text-align: right;\n",
       "    }\n",
       "</style>\n",
       "<table border=\"1\" class=\"dataframe\">\n",
       "  <thead>\n",
       "    <tr style=\"text-align: right;\">\n",
       "      <th></th>\n",
       "      <th>Model</th>\n",
       "      <th>Accuracy</th>\n",
       "      <th>F1 (Weighted)</th>\n",
       "    </tr>\n",
       "  </thead>\n",
       "  <tbody>\n",
       "    <tr>\n",
       "      <th>0</th>\n",
       "      <td>MiniLM-L6-v2</td>\n",
       "      <td>1.0</td>\n",
       "      <td>1.000000</td>\n",
       "    </tr>\n",
       "    <tr>\n",
       "      <th>2</th>\n",
       "      <td>MiniLM-QA</td>\n",
       "      <td>0.9</td>\n",
       "      <td>0.893333</td>\n",
       "    </tr>\n",
       "    <tr>\n",
       "      <th>3</th>\n",
       "      <td>BGE-Small</td>\n",
       "      <td>0.9</td>\n",
       "      <td>0.893333</td>\n",
       "    </tr>\n",
       "    <tr>\n",
       "      <th>1</th>\n",
       "      <td>MiniLM-L12-v2</td>\n",
       "      <td>0.8</td>\n",
       "      <td>0.720000</td>\n",
       "    </tr>\n",
       "  </tbody>\n",
       "</table>\n",
       "</div>"
      ],
      "text/plain": [
       "           Model  Accuracy  F1 (Weighted)\n",
       "0   MiniLM-L6-v2       1.0       1.000000\n",
       "2      MiniLM-QA       0.9       0.893333\n",
       "3      BGE-Small       0.9       0.893333\n",
       "1  MiniLM-L12-v2       0.8       0.720000"
      ]
     },
     "execution_count": 15,
     "metadata": {},
     "output_type": "execute_result"
    }
   ],
   "source": [
    "results_df = pd.DataFrame(results).sort_values(by=\"F1 (Weighted)\", ascending=False)\n",
    "results_df\n"
   ]
  },
  {
   "cell_type": "markdown",
   "id": "67d98193",
   "metadata": {},
   "source": [
    "### Visualize Embeddings"
   ]
  },
  {
   "cell_type": "code",
   "execution_count": 17,
   "id": "cf5d9fc9",
   "metadata": {},
   "outputs": [
    {
     "name": "stderr",
     "output_type": "stream",
     "text": [
      "Batches: 100%|██████████| 2/2 [00:00<00:00, 19.33it/s]\n"
     ]
    },
    {
     "data": {
      "image/png": "[encoded data removed]",
      "text/plain": [
       "<Figure size 1000x800 with 1 Axes>"
      ]
     },
     "metadata": {},
     "output_type": "display_data"
    }
   ],
   "source": [
    "best_model = \"all-MiniLM-L6-v2\"\n",
    "X_text = get_embeddings(text_data, best_model)\n",
    "visualize_tsne(X_text, labels, title=f\"t-SNE: {best_model} Embeddings\")\n"
   ]
  }
 ],
 "metadata": {
  "kernelspec": {
   "display_name": ".venv",
   "language": "python",
   "name": "python3"
  },
  "language_info": {
   "codemirror_mode": {
    "name": "ipython",
    "version": 3
   },
   "file_extension": ".py",
   "mimetype": "text/x-python",
   "name": "python",
   "nbconvert_exporter": "python",
   "pygments_lexer": "ipython3",
   "version": "3.10.11"
  }
 },
 "nbformat": 4,
 "nbformat_minor": 5
}
